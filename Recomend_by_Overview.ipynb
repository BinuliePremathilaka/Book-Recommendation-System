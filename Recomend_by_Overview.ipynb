{
  "nbformat": 4,
  "nbformat_minor": 0,
  "metadata": {
    "colab": {
      "provenance": []
    },
    "kernelspec": {
      "name": "python3",
      "display_name": "Python 3"
    },
    "language_info": {
      "name": "python"
    }
  },
  "cells": [
    {
      "cell_type": "code",
      "source": [
        "#import drive from goolge colab and mount it\n",
        "from google.colab import drive\n",
        "drive.mount('/content/drive')"
      ],
      "metadata": {
        "id": "2kC0cbUaFNNV",
        "colab": {
          "base_uri": "https://localhost:8080/"
        },
        "outputId": "71dbbb07-ff6d-42a3-b70c-c0c6b10f6c5d"
      },
      "execution_count": null,
      "outputs": [
        {
          "output_type": "stream",
          "name": "stdout",
          "text": [
            "Mounted at /content/drive\n"
          ]
        }
      ]
    },
    {
      "cell_type": "code",
      "execution_count": null,
      "metadata": {
        "id": "Dj0XDXPjANPR"
      },
      "outputs": [],
      "source": [
        "#import required libraries\n",
        "import numpy as np\n",
        "import pandas as pd\n",
        "import re\n",
        "from nltk.tokenize import word_tokenize\n",
        "from nltk.corpus import stopwords\n",
        "import matplotlib.pyplot as plt\n",
        "from sklearn.feature_extraction.text import TfidfVectorizer\n",
        "import os\n",
        "from sklearn.metrics.pairwise import cosine_similarity\n",
        "from sklearn.metrics.pairwise import linear_kernel\n",
        "import matplotlib.pyplot as plt"
      ]
    },
    {
      "cell_type": "code",
      "source": [
        "books=pd.read_excel('/content/drive/MyDrive/Overview.xlsx')"
      ],
      "metadata": {
        "id": "okzeSJHT3NJF"
      },
      "execution_count": null,
      "outputs": []
    },
    {
      "cell_type": "code",
      "source": [
        "books.head()"
      ],
      "metadata": {
        "colab": {
          "base_uri": "https://localhost:8080/",
          "height": 501
        },
        "id": "pcTsW6mW3RGa",
        "outputId": "fa9c4c94-b949-461e-e88f-9af9a8fa735b"
      },
      "execution_count": null,
      "outputs": [
        {
          "output_type": "execute_result",
          "data": {
            "text/plain": [
              "                                               title  \\\n",
              "0  Data Analysis Using R: A Primer for Data Scien...   \n",
              "1       Head First Data Analysis: A Beginner's Guide   \n",
              "2       Guerrilla Data Analysis with Microsoft Excel   \n",
              "3  Python for Data Analysis: Wrangling with Panda...   \n",
              "4                    Excel Data Analysis For Dummies   \n",
              "\n",
              "                                            overview  \\\n",
              "0  Data Analysis Using R (Low Priced Edition): A ...   \n",
              "1  Head First Data Analysis: A learner's guide to...   \n",
              "2  Guerrilla Data Analysis Using Microsoft Excel:...   \n",
              "3  Python for Data Analysis: Data Wrangling with ...   \n",
              "4  Excel Data Analysis For Dummies (For Dummies (...   \n",
              "\n",
              "                               author  price price (including used books)  \\\n",
              "0                 [ Dr Dhaval Maheta]   6.75                         6.75   \n",
              "1                                 NaN  33.72               21.49 - 33.72    \n",
              "2  [ Oz du Soleil,  and , Bill Jelen]  32.07                        32.07   \n",
              "3                 [ William McKinney]  53.99                        53.99   \n",
              "4                   [ Paul McFedries]  24.49                        24.49   \n",
              "\n",
              "  pages  avg_reviews  n_reviews  star5  star4  star3  star2  star1  \\\n",
              "0   500          4.4       23.0   0.55   0.39   0.06    NaN    NaN   \n",
              "1   484          4.3      124.0   0.61   0.20   0.09   0.04   0.06   \n",
              "2   274          4.7       10.0   0.87   0.13    NaN    NaN    NaN   \n",
              "3   547          4.6     1686.0   0.75   0.16   0.05   0.02   0.02   \n",
              "4   368          3.9       12.0   0.52   0.17   0.10   0.10   0.10   \n",
              "\n",
              "                  dimensions       weight language  \\\n",
              "0     8.5 x 1.01 x 11 inches  2.53 pounds  English   \n",
              "1     8 x 0.98 x 9.25 inches  1.96 pounds  English   \n",
              "2  8.25 x 0.6 x 10.75 inches   1.4 pounds  English   \n",
              "3     7 x 1.11 x 9.19 inches  1.47 pounds  English   \n",
              "4  7.38 x 0.83 x 9.25 inches   1.3 pounds  English   \n",
              "\n",
              "                                           publisher  \n",
              "0     Notion Press Media Pvt Ltd (November 22, 2021)  \n",
              "1      O'Reilly Media; 1st edition (August 18, 2009)  \n",
              "2  Holy Macro! Books; Third edition (August 1, 2022)  \n",
              "3    O'Reilly Media; 2nd edition (November 14, 2017)  \n",
              "4        For Dummies; 5th edition (February 3, 2022)  "
            ],
            "text/html": [
              "\n",
              "  <div id=\"df-e9810c69-bff5-43c0-bf24-c104c98fe4a9\" class=\"colab-df-container\">\n",
              "    <div>\n",
              "<style scoped>\n",
              "    .dataframe tbody tr th:only-of-type {\n",
              "        vertical-align: middle;\n",
              "    }\n",
              "\n",
              "    .dataframe tbody tr th {\n",
              "        vertical-align: top;\n",
              "    }\n",
              "\n",
              "    .dataframe thead th {\n",
              "        text-align: right;\n",
              "    }\n",
              "</style>\n",
              "<table border=\"1\" class=\"dataframe\">\n",
              "  <thead>\n",
              "    <tr style=\"text-align: right;\">\n",
              "      <th></th>\n",
              "      <th>title</th>\n",
              "      <th>overview</th>\n",
              "      <th>author</th>\n",
              "      <th>price</th>\n",
              "      <th>price (including used books)</th>\n",
              "      <th>pages</th>\n",
              "      <th>avg_reviews</th>\n",
              "      <th>n_reviews</th>\n",
              "      <th>star5</th>\n",
              "      <th>star4</th>\n",
              "      <th>star3</th>\n",
              "      <th>star2</th>\n",
              "      <th>star1</th>\n",
              "      <th>dimensions</th>\n",
              "      <th>weight</th>\n",
              "      <th>language</th>\n",
              "      <th>publisher</th>\n",
              "    </tr>\n",
              "  </thead>\n",
              "  <tbody>\n",
              "    <tr>\n",
              "      <th>0</th>\n",
              "      <td>Data Analysis Using R: A Primer for Data Scien...</td>\n",
              "      <td>Data Analysis Using R (Low Priced Edition): A ...</td>\n",
              "      <td>[ Dr Dhaval Maheta]</td>\n",
              "      <td>6.75</td>\n",
              "      <td>6.75</td>\n",
              "      <td>500</td>\n",
              "      <td>4.4</td>\n",
              "      <td>23.0</td>\n",
              "      <td>0.55</td>\n",
              "      <td>0.39</td>\n",
              "      <td>0.06</td>\n",
              "      <td>NaN</td>\n",
              "      <td>NaN</td>\n",
              "      <td>8.5 x 1.01 x 11 inches</td>\n",
              "      <td>2.53 pounds</td>\n",
              "      <td>English</td>\n",
              "      <td>Notion Press Media Pvt Ltd (November 22, 2021)</td>\n",
              "    </tr>\n",
              "    <tr>\n",
              "      <th>1</th>\n",
              "      <td>Head First Data Analysis: A Beginner's Guide</td>\n",
              "      <td>Head First Data Analysis: A learner's guide to...</td>\n",
              "      <td>NaN</td>\n",
              "      <td>33.72</td>\n",
              "      <td>21.49 - 33.72</td>\n",
              "      <td>484</td>\n",
              "      <td>4.3</td>\n",
              "      <td>124.0</td>\n",
              "      <td>0.61</td>\n",
              "      <td>0.20</td>\n",
              "      <td>0.09</td>\n",
              "      <td>0.04</td>\n",
              "      <td>0.06</td>\n",
              "      <td>8 x 0.98 x 9.25 inches</td>\n",
              "      <td>1.96 pounds</td>\n",
              "      <td>English</td>\n",
              "      <td>O'Reilly Media; 1st edition (August 18, 2009)</td>\n",
              "    </tr>\n",
              "    <tr>\n",
              "      <th>2</th>\n",
              "      <td>Guerrilla Data Analysis with Microsoft Excel</td>\n",
              "      <td>Guerrilla Data Analysis Using Microsoft Excel:...</td>\n",
              "      <td>[ Oz du Soleil,  and , Bill Jelen]</td>\n",
              "      <td>32.07</td>\n",
              "      <td>32.07</td>\n",
              "      <td>274</td>\n",
              "      <td>4.7</td>\n",
              "      <td>10.0</td>\n",
              "      <td>0.87</td>\n",
              "      <td>0.13</td>\n",
              "      <td>NaN</td>\n",
              "      <td>NaN</td>\n",
              "      <td>NaN</td>\n",
              "      <td>8.25 x 0.6 x 10.75 inches</td>\n",
              "      <td>1.4 pounds</td>\n",
              "      <td>English</td>\n",
              "      <td>Holy Macro! Books; Third edition (August 1, 2022)</td>\n",
              "    </tr>\n",
              "    <tr>\n",
              "      <th>3</th>\n",
              "      <td>Python for Data Analysis: Wrangling with Panda...</td>\n",
              "      <td>Python for Data Analysis: Data Wrangling with ...</td>\n",
              "      <td>[ William McKinney]</td>\n",
              "      <td>53.99</td>\n",
              "      <td>53.99</td>\n",
              "      <td>547</td>\n",
              "      <td>4.6</td>\n",
              "      <td>1686.0</td>\n",
              "      <td>0.75</td>\n",
              "      <td>0.16</td>\n",
              "      <td>0.05</td>\n",
              "      <td>0.02</td>\n",
              "      <td>0.02</td>\n",
              "      <td>7 x 1.11 x 9.19 inches</td>\n",
              "      <td>1.47 pounds</td>\n",
              "      <td>English</td>\n",
              "      <td>O'Reilly Media; 2nd edition (November 14, 2017)</td>\n",
              "    </tr>\n",
              "    <tr>\n",
              "      <th>4</th>\n",
              "      <td>Excel Data Analysis For Dummies</td>\n",
              "      <td>Excel Data Analysis For Dummies (For Dummies (...</td>\n",
              "      <td>[ Paul McFedries]</td>\n",
              "      <td>24.49</td>\n",
              "      <td>24.49</td>\n",
              "      <td>368</td>\n",
              "      <td>3.9</td>\n",
              "      <td>12.0</td>\n",
              "      <td>0.52</td>\n",
              "      <td>0.17</td>\n",
              "      <td>0.10</td>\n",
              "      <td>0.10</td>\n",
              "      <td>0.10</td>\n",
              "      <td>7.38 x 0.83 x 9.25 inches</td>\n",
              "      <td>1.3 pounds</td>\n",
              "      <td>English</td>\n",
              "      <td>For Dummies; 5th edition (February 3, 2022)</td>\n",
              "    </tr>\n",
              "  </tbody>\n",
              "</table>\n",
              "</div>\n",
              "    <div class=\"colab-df-buttons\">\n",
              "\n",
              "  <div class=\"colab-df-container\">\n",
              "    <button class=\"colab-df-convert\" onclick=\"convertToInteractive('df-e9810c69-bff5-43c0-bf24-c104c98fe4a9')\"\n",
              "            title=\"Convert this dataframe to an interactive table.\"\n",
              "            style=\"display:none;\">\n",
              "\n",
              "  <svg xmlns=\"http://www.w3.org/2000/svg\" height=\"24px\" viewBox=\"0 -960 960 960\">\n",
              "    <path d=\"M120-120v-720h720v720H120Zm60-500h600v-160H180v160Zm220 220h160v-160H400v160Zm0 220h160v-160H400v160ZM180-400h160v-160H180v160Zm440 0h160v-160H620v160ZM180-180h160v-160H180v160Zm440 0h160v-160H620v160Z\"/>\n",
              "  </svg>\n",
              "    </button>\n",
              "\n",
              "  <style>\n",
              "    .colab-df-container {\n",
              "      display:flex;\n",
              "      gap: 12px;\n",
              "    }\n",
              "\n",
              "    .colab-df-convert {\n",
              "      background-color: #E8F0FE;\n",
              "      border: none;\n",
              "      border-radius: 50%;\n",
              "      cursor: pointer;\n",
              "      display: none;\n",
              "      fill: #1967D2;\n",
              "      height: 32px;\n",
              "      padding: 0 0 0 0;\n",
              "      width: 32px;\n",
              "    }\n",
              "\n",
              "    .colab-df-convert:hover {\n",
              "      background-color: #E2EBFA;\n",
              "      box-shadow: 0px 1px 2px rgba(60, 64, 67, 0.3), 0px 1px 3px 1px rgba(60, 64, 67, 0.15);\n",
              "      fill: #174EA6;\n",
              "    }\n",
              "\n",
              "    .colab-df-buttons div {\n",
              "      margin-bottom: 4px;\n",
              "    }\n",
              "\n",
              "    [theme=dark] .colab-df-convert {\n",
              "      background-color: #3B4455;\n",
              "      fill: #D2E3FC;\n",
              "    }\n",
              "\n",
              "    [theme=dark] .colab-df-convert:hover {\n",
              "      background-color: #434B5C;\n",
              "      box-shadow: 0px 1px 3px 1px rgba(0, 0, 0, 0.15);\n",
              "      filter: drop-shadow(0px 1px 2px rgba(0, 0, 0, 0.3));\n",
              "      fill: #FFFFFF;\n",
              "    }\n",
              "  </style>\n",
              "\n",
              "    <script>\n",
              "      const buttonEl =\n",
              "        document.querySelector('#df-e9810c69-bff5-43c0-bf24-c104c98fe4a9 button.colab-df-convert');\n",
              "      buttonEl.style.display =\n",
              "        google.colab.kernel.accessAllowed ? 'block' : 'none';\n",
              "\n",
              "      async function convertToInteractive(key) {\n",
              "        const element = document.querySelector('#df-e9810c69-bff5-43c0-bf24-c104c98fe4a9');\n",
              "        const dataTable =\n",
              "          await google.colab.kernel.invokeFunction('convertToInteractive',\n",
              "                                                    [key], {});\n",
              "        if (!dataTable) return;\n",
              "\n",
              "        const docLinkHtml = 'Like what you see? Visit the ' +\n",
              "          '<a target=\"_blank\" href=https://colab.research.google.com/notebooks/data_table.ipynb>data table notebook</a>'\n",
              "          + ' to learn more about interactive tables.';\n",
              "        element.innerHTML = '';\n",
              "        dataTable['output_type'] = 'display_data';\n",
              "        await google.colab.output.renderOutput(dataTable, element);\n",
              "        const docLink = document.createElement('div');\n",
              "        docLink.innerHTML = docLinkHtml;\n",
              "        element.appendChild(docLink);\n",
              "      }\n",
              "    </script>\n",
              "  </div>\n",
              "\n",
              "\n",
              "<div id=\"df-d9907249-fb69-432d-a24b-f7f9909b10a3\">\n",
              "  <button class=\"colab-df-quickchart\" onclick=\"quickchart('df-d9907249-fb69-432d-a24b-f7f9909b10a3')\"\n",
              "            title=\"Suggest charts\"\n",
              "            style=\"display:none;\">\n",
              "\n",
              "<svg xmlns=\"http://www.w3.org/2000/svg\" height=\"24px\"viewBox=\"0 0 24 24\"\n",
              "     width=\"24px\">\n",
              "    <g>\n",
              "        <path d=\"M19 3H5c-1.1 0-2 .9-2 2v14c0 1.1.9 2 2 2h14c1.1 0 2-.9 2-2V5c0-1.1-.9-2-2-2zM9 17H7v-7h2v7zm4 0h-2V7h2v10zm4 0h-2v-4h2v4z\"/>\n",
              "    </g>\n",
              "</svg>\n",
              "  </button>\n",
              "\n",
              "<style>\n",
              "  .colab-df-quickchart {\n",
              "      --bg-color: #E8F0FE;\n",
              "      --fill-color: #1967D2;\n",
              "      --hover-bg-color: #E2EBFA;\n",
              "      --hover-fill-color: #174EA6;\n",
              "      --disabled-fill-color: #AAA;\n",
              "      --disabled-bg-color: #DDD;\n",
              "  }\n",
              "\n",
              "  [theme=dark] .colab-df-quickchart {\n",
              "      --bg-color: #3B4455;\n",
              "      --fill-color: #D2E3FC;\n",
              "      --hover-bg-color: #434B5C;\n",
              "      --hover-fill-color: #FFFFFF;\n",
              "      --disabled-bg-color: #3B4455;\n",
              "      --disabled-fill-color: #666;\n",
              "  }\n",
              "\n",
              "  .colab-df-quickchart {\n",
              "    background-color: var(--bg-color);\n",
              "    border: none;\n",
              "    border-radius: 50%;\n",
              "    cursor: pointer;\n",
              "    display: none;\n",
              "    fill: var(--fill-color);\n",
              "    height: 32px;\n",
              "    padding: 0;\n",
              "    width: 32px;\n",
              "  }\n",
              "\n",
              "  .colab-df-quickchart:hover {\n",
              "    background-color: var(--hover-bg-color);\n",
              "    box-shadow: 0 1px 2px rgba(60, 64, 67, 0.3), 0 1px 3px 1px rgba(60, 64, 67, 0.15);\n",
              "    fill: var(--button-hover-fill-color);\n",
              "  }\n",
              "\n",
              "  .colab-df-quickchart-complete:disabled,\n",
              "  .colab-df-quickchart-complete:disabled:hover {\n",
              "    background-color: var(--disabled-bg-color);\n",
              "    fill: var(--disabled-fill-color);\n",
              "    box-shadow: none;\n",
              "  }\n",
              "\n",
              "  .colab-df-spinner {\n",
              "    border: 2px solid var(--fill-color);\n",
              "    border-color: transparent;\n",
              "    border-bottom-color: var(--fill-color);\n",
              "    animation:\n",
              "      spin 1s steps(1) infinite;\n",
              "  }\n",
              "\n",
              "  @keyframes spin {\n",
              "    0% {\n",
              "      border-color: transparent;\n",
              "      border-bottom-color: var(--fill-color);\n",
              "      border-left-color: var(--fill-color);\n",
              "    }\n",
              "    20% {\n",
              "      border-color: transparent;\n",
              "      border-left-color: var(--fill-color);\n",
              "      border-top-color: var(--fill-color);\n",
              "    }\n",
              "    30% {\n",
              "      border-color: transparent;\n",
              "      border-left-color: var(--fill-color);\n",
              "      border-top-color: var(--fill-color);\n",
              "      border-right-color: var(--fill-color);\n",
              "    }\n",
              "    40% {\n",
              "      border-color: transparent;\n",
              "      border-right-color: var(--fill-color);\n",
              "      border-top-color: var(--fill-color);\n",
              "    }\n",
              "    60% {\n",
              "      border-color: transparent;\n",
              "      border-right-color: var(--fill-color);\n",
              "    }\n",
              "    80% {\n",
              "      border-color: transparent;\n",
              "      border-right-color: var(--fill-color);\n",
              "      border-bottom-color: var(--fill-color);\n",
              "    }\n",
              "    90% {\n",
              "      border-color: transparent;\n",
              "      border-bottom-color: var(--fill-color);\n",
              "    }\n",
              "  }\n",
              "</style>\n",
              "\n",
              "  <script>\n",
              "    async function quickchart(key) {\n",
              "      const quickchartButtonEl =\n",
              "        document.querySelector('#' + key + ' button');\n",
              "      quickchartButtonEl.disabled = true;  // To prevent multiple clicks.\n",
              "      quickchartButtonEl.classList.add('colab-df-spinner');\n",
              "      try {\n",
              "        const charts = await google.colab.kernel.invokeFunction(\n",
              "            'suggestCharts', [key], {});\n",
              "      } catch (error) {\n",
              "        console.error('Error during call to suggestCharts:', error);\n",
              "      }\n",
              "      quickchartButtonEl.classList.remove('colab-df-spinner');\n",
              "      quickchartButtonEl.classList.add('colab-df-quickchart-complete');\n",
              "    }\n",
              "    (() => {\n",
              "      let quickchartButtonEl =\n",
              "        document.querySelector('#df-d9907249-fb69-432d-a24b-f7f9909b10a3 button');\n",
              "      quickchartButtonEl.style.display =\n",
              "        google.colab.kernel.accessAllowed ? 'block' : 'none';\n",
              "    })();\n",
              "  </script>\n",
              "</div>\n",
              "\n",
              "    </div>\n",
              "  </div>\n"
            ]
          },
          "metadata": {},
          "execution_count": 4
        }
      ]
    },
    {
      "cell_type": "code",
      "source": [
        "#too se the shape of a movie dataset\n",
        "books.shape"
      ],
      "metadata": {
        "colab": {
          "base_uri": "https://localhost:8080/"
        },
        "id": "UVy8j31eIf5V",
        "outputId": "aa976241-836e-4449-b20e-8d178fa52aa0"
      },
      "execution_count": null,
      "outputs": [
        {
          "output_type": "execute_result",
          "data": {
            "text/plain": [
              "(199, 17)"
            ]
          },
          "metadata": {},
          "execution_count": 5
        }
      ]
    },
    {
      "cell_type": "code",
      "source": [
        "import nltk\n",
        "nltk.download('stopwords')\n",
        "nltk.download('punkt')"
      ],
      "metadata": {
        "colab": {
          "base_uri": "https://localhost:8080/"
        },
        "id": "_ornGI-4RUS1",
        "outputId": "56d022f3-4f49-448a-a048-6b291ac8eb19"
      },
      "execution_count": null,
      "outputs": [
        {
          "output_type": "stream",
          "name": "stderr",
          "text": [
            "[nltk_data] Downloading package stopwords to /root/nltk_data...\n",
            "[nltk_data]   Unzipping corpora/stopwords.zip.\n",
            "[nltk_data] Downloading package punkt to /root/nltk_data...\n",
            "[nltk_data]   Unzipping tokenizers/punkt.zip.\n"
          ]
        },
        {
          "output_type": "execute_result",
          "data": {
            "text/plain": [
              "True"
            ]
          },
          "metadata": {},
          "execution_count": 6
        }
      ]
    },
    {
      "cell_type": "code",
      "source": [
        "books.isnull().sum()"
      ],
      "metadata": {
        "colab": {
          "base_uri": "https://localhost:8080/"
        },
        "id": "g-QQB31N-0f6",
        "outputId": "3490b729-e0f3-40f7-f26a-5c8060307895"
      },
      "execution_count": null,
      "outputs": [
        {
          "output_type": "execute_result",
          "data": {
            "text/plain": [
              "title                             0\n",
              "overview                          0\n",
              "author                           42\n",
              "price                            13\n",
              "price (including used books)     13\n",
              "pages                            11\n",
              "avg_reviews                      24\n",
              "n_reviews                        24\n",
              "star5                            24\n",
              "star4                            39\n",
              "star3                            66\n",
              "star2                            94\n",
              "star1                           130\n",
              "dimensions                       32\n",
              "weight                           30\n",
              "language                          9\n",
              "publisher                        15\n",
              "dtype: int64"
            ]
          },
          "metadata": {},
          "execution_count": 7
        }
      ]
    },
    {
      "cell_type": "code",
      "source": [
        "books.drop(columns=['price','price (including used books)','pages','avg_reviews','n_reviews','star5','star4','star3','star2','star1','dimensions','weight','language'], inplace=True)"
      ],
      "metadata": {
        "id": "44hwpHj8AAEN"
      },
      "execution_count": null,
      "outputs": []
    },
    {
      "cell_type": "code",
      "source": [
        "books.dropna(inplace=True)"
      ],
      "metadata": {
        "id": "4Jwznb5I_sxb"
      },
      "execution_count": null,
      "outputs": []
    },
    {
      "cell_type": "code",
      "source": [
        "books.shape"
      ],
      "metadata": {
        "colab": {
          "base_uri": "https://localhost:8080/"
        },
        "id": "SZmqMnKF_spX",
        "outputId": "8f31584b-9d41-4ee8-89ae-b42bc424cd0f"
      },
      "execution_count": null,
      "outputs": [
        {
          "output_type": "execute_result",
          "data": {
            "text/plain": [
              "(148, 4)"
            ]
          },
          "metadata": {},
          "execution_count": 10
        }
      ]
    },
    {
      "cell_type": "code",
      "source": [
        "# Assuming your DataFrame is named books and the column is named 'publisher'\n",
        "#books['publisher'] = books['publisher'].str.split(';').str[0].str.strip()\n",
        "books['publisher'] = books['publisher'].str.split(';').str[0].str.strip()\n",
        "books['publisher'] = books['publisher'].str.replace(r'\\([^)]*\\)', '').str.strip()\n",
        "\n",
        "# Display the result\n",
        "print(books['publisher'])"
      ],
      "metadata": {
        "colab": {
          "base_uri": "https://localhost:8080/"
        },
        "id": "YSSIXO5FlcDu",
        "outputId": "381cdbef-65f4-4f1e-867f-887105e5e8c6"
      },
      "execution_count": null,
      "outputs": [
        {
          "output_type": "stream",
          "name": "stdout",
          "text": [
            "0      Notion Press Media Pvt Ltd\n",
            "2               Holy Macro! Books\n",
            "3                  O'Reilly Media\n",
            "4                     For Dummies\n",
            "6                  O'Reilly Media\n",
            "                  ...            \n",
            "194       Independently published\n",
            "195                         Wiley\n",
            "196                    Kogan Page\n",
            "197              Packt Publishing\n",
            "198            Emerald Publishing\n",
            "Name: publisher, Length: 148, dtype: object\n"
          ]
        },
        {
          "output_type": "stream",
          "name": "stderr",
          "text": [
            "<ipython-input-11-96b6a46da037>:4: FutureWarning: The default value of regex will change from True to False in a future version.\n",
            "  books['publisher'] = books['publisher'].str.replace(r'\\([^)]*\\)', '').str.strip()\n"
          ]
        }
      ]
    },
    {
      "cell_type": "code",
      "source": [
        "# Define a function for text preprocessing\n",
        "def preprocess_text(text):\n",
        "    # Convert to lowercase\n",
        "    text = text.lower()\n",
        "\n",
        "    # Remove punctuation and numbers\n",
        "    text = re.sub(r\"[^a-zA-Z]\", \" \", text)\n",
        "\n",
        "    # Tokenize the text\n",
        "    tokens = word_tokenize(text)\n",
        "\n",
        "    # Remove stopwords\n",
        "    stop_words = set(stopwords.words(\"english\"))\n",
        "    tokens = [word for word in tokens if word not in stop_words]\n",
        "\n",
        "    # Join tokens back into a string\n",
        "    preprocessed_text = \" \".join(tokens)\n",
        "\n",
        "    return preprocessed_text\n",
        "\n",
        "# Apply the preprocessing function to the 'overview' column\n",
        "books['preprocessed_overview'] = books['overview'].apply(preprocess_text)\n",
        "\n",
        "# Print the first few rows of the preprocessed DataFrame\n",
        "print(books[['title', 'overview', 'preprocessed_overview']].head())"
      ],
      "metadata": {
        "colab": {
          "base_uri": "https://localhost:8080/"
        },
        "id": "AahBE8yfTbOB",
        "outputId": "f2d15cca-d76b-4166-a112-9db547fa8dd9"
      },
      "execution_count": null,
      "outputs": [
        {
          "output_type": "stream",
          "name": "stdout",
          "text": [
            "                                               title  \\\n",
            "0  Data Analysis Using R: A Primer for Data Scien...   \n",
            "2       Guerrilla Data Analysis with Microsoft Excel   \n",
            "3  Python for Data Analysis: Wrangling with Panda...   \n",
            "4                    Excel Data Analysis For Dummies   \n",
            "6         SQL for Data Analysis: Advanced Techniques   \n",
            "\n",
            "                                            overview  \\\n",
            "0  Data Analysis Using R (Low Priced Edition): A ...   \n",
            "2  Guerrilla Data Analysis Using Microsoft Excel:...   \n",
            "3  Python for Data Analysis: Data Wrangling with ...   \n",
            "4  Excel Data Analysis For Dummies (For Dummies (...   \n",
            "6  SQL for Data Analysis: Advanced Techniques for...   \n",
            "\n",
            "                               preprocessed_overview  \n",
            "0  data analysis using r low priced edition prime...  \n",
            "2  guerrilla data analysis using microsoft excel ...  \n",
            "3  python data analysis data wrangling pandas num...  \n",
            "4  excel data analysis dummies dummies computer tech  \n",
            "6  sql data analysis advanced techniques transfor...  \n"
          ]
        }
      ]
    },
    {
      "cell_type": "code",
      "source": [
        "books.head()"
      ],
      "metadata": {
        "colab": {
          "base_uri": "https://localhost:8080/",
          "height": 275
        },
        "id": "wba7eyk8somC",
        "outputId": "36971a7e-cd73-4eaa-bbdb-eebb3ef0f0e6"
      },
      "execution_count": null,
      "outputs": [
        {
          "output_type": "execute_result",
          "data": {
            "text/plain": [
              "                                               title  \\\n",
              "0  Data Analysis Using R: A Primer for Data Scien...   \n",
              "2       Guerrilla Data Analysis with Microsoft Excel   \n",
              "3  Python for Data Analysis: Wrangling with Panda...   \n",
              "4                    Excel Data Analysis For Dummies   \n",
              "6         SQL for Data Analysis: Advanced Techniques   \n",
              "\n",
              "                                            overview  \\\n",
              "0  Data Analysis Using R (Low Priced Edition): A ...   \n",
              "2  Guerrilla Data Analysis Using Microsoft Excel:...   \n",
              "3  Python for Data Analysis: Data Wrangling with ...   \n",
              "4  Excel Data Analysis For Dummies (For Dummies (...   \n",
              "6  SQL for Data Analysis: Advanced Techniques for...   \n",
              "\n",
              "                               author                   publisher  \\\n",
              "0                 [ Dr Dhaval Maheta]  Notion Press Media Pvt Ltd   \n",
              "2  [ Oz du Soleil,  and , Bill Jelen]           Holy Macro! Books   \n",
              "3                 [ William McKinney]              O'Reilly Media   \n",
              "4                   [ Paul McFedries]                 For Dummies   \n",
              "6                   [ Cathy Tanimura]              O'Reilly Media   \n",
              "\n",
              "                               preprocessed_overview  \n",
              "0  data analysis using r low priced edition prime...  \n",
              "2  guerrilla data analysis using microsoft excel ...  \n",
              "3  python data analysis data wrangling pandas num...  \n",
              "4  excel data analysis dummies dummies computer tech  \n",
              "6  sql data analysis advanced techniques transfor...  "
            ],
            "text/html": [
              "\n",
              "  <div id=\"df-69d9222c-3c73-4143-bc4f-305f46217d24\" class=\"colab-df-container\">\n",
              "    <div>\n",
              "<style scoped>\n",
              "    .dataframe tbody tr th:only-of-type {\n",
              "        vertical-align: middle;\n",
              "    }\n",
              "\n",
              "    .dataframe tbody tr th {\n",
              "        vertical-align: top;\n",
              "    }\n",
              "\n",
              "    .dataframe thead th {\n",
              "        text-align: right;\n",
              "    }\n",
              "</style>\n",
              "<table border=\"1\" class=\"dataframe\">\n",
              "  <thead>\n",
              "    <tr style=\"text-align: right;\">\n",
              "      <th></th>\n",
              "      <th>title</th>\n",
              "      <th>overview</th>\n",
              "      <th>author</th>\n",
              "      <th>publisher</th>\n",
              "      <th>preprocessed_overview</th>\n",
              "    </tr>\n",
              "  </thead>\n",
              "  <tbody>\n",
              "    <tr>\n",
              "      <th>0</th>\n",
              "      <td>Data Analysis Using R: A Primer for Data Scien...</td>\n",
              "      <td>Data Analysis Using R (Low Priced Edition): A ...</td>\n",
              "      <td>[ Dr Dhaval Maheta]</td>\n",
              "      <td>Notion Press Media Pvt Ltd</td>\n",
              "      <td>data analysis using r low priced edition prime...</td>\n",
              "    </tr>\n",
              "    <tr>\n",
              "      <th>2</th>\n",
              "      <td>Guerrilla Data Analysis with Microsoft Excel</td>\n",
              "      <td>Guerrilla Data Analysis Using Microsoft Excel:...</td>\n",
              "      <td>[ Oz du Soleil,  and , Bill Jelen]</td>\n",
              "      <td>Holy Macro! Books</td>\n",
              "      <td>guerrilla data analysis using microsoft excel ...</td>\n",
              "    </tr>\n",
              "    <tr>\n",
              "      <th>3</th>\n",
              "      <td>Python for Data Analysis: Wrangling with Panda...</td>\n",
              "      <td>Python for Data Analysis: Data Wrangling with ...</td>\n",
              "      <td>[ William McKinney]</td>\n",
              "      <td>O'Reilly Media</td>\n",
              "      <td>python data analysis data wrangling pandas num...</td>\n",
              "    </tr>\n",
              "    <tr>\n",
              "      <th>4</th>\n",
              "      <td>Excel Data Analysis For Dummies</td>\n",
              "      <td>Excel Data Analysis For Dummies (For Dummies (...</td>\n",
              "      <td>[ Paul McFedries]</td>\n",
              "      <td>For Dummies</td>\n",
              "      <td>excel data analysis dummies dummies computer tech</td>\n",
              "    </tr>\n",
              "    <tr>\n",
              "      <th>6</th>\n",
              "      <td>SQL for Data Analysis: Advanced Techniques</td>\n",
              "      <td>SQL for Data Analysis: Advanced Techniques for...</td>\n",
              "      <td>[ Cathy Tanimura]</td>\n",
              "      <td>O'Reilly Media</td>\n",
              "      <td>sql data analysis advanced techniques transfor...</td>\n",
              "    </tr>\n",
              "  </tbody>\n",
              "</table>\n",
              "</div>\n",
              "    <div class=\"colab-df-buttons\">\n",
              "\n",
              "  <div class=\"colab-df-container\">\n",
              "    <button class=\"colab-df-convert\" onclick=\"convertToInteractive('df-69d9222c-3c73-4143-bc4f-305f46217d24')\"\n",
              "            title=\"Convert this dataframe to an interactive table.\"\n",
              "            style=\"display:none;\">\n",
              "\n",
              "  <svg xmlns=\"http://www.w3.org/2000/svg\" height=\"24px\" viewBox=\"0 -960 960 960\">\n",
              "    <path d=\"M120-120v-720h720v720H120Zm60-500h600v-160H180v160Zm220 220h160v-160H400v160Zm0 220h160v-160H400v160ZM180-400h160v-160H180v160Zm440 0h160v-160H620v160ZM180-180h160v-160H180v160Zm440 0h160v-160H620v160Z\"/>\n",
              "  </svg>\n",
              "    </button>\n",
              "\n",
              "  <style>\n",
              "    .colab-df-container {\n",
              "      display:flex;\n",
              "      gap: 12px;\n",
              "    }\n",
              "\n",
              "    .colab-df-convert {\n",
              "      background-color: #E8F0FE;\n",
              "      border: none;\n",
              "      border-radius: 50%;\n",
              "      cursor: pointer;\n",
              "      display: none;\n",
              "      fill: #1967D2;\n",
              "      height: 32px;\n",
              "      padding: 0 0 0 0;\n",
              "      width: 32px;\n",
              "    }\n",
              "\n",
              "    .colab-df-convert:hover {\n",
              "      background-color: #E2EBFA;\n",
              "      box-shadow: 0px 1px 2px rgba(60, 64, 67, 0.3), 0px 1px 3px 1px rgba(60, 64, 67, 0.15);\n",
              "      fill: #174EA6;\n",
              "    }\n",
              "\n",
              "    .colab-df-buttons div {\n",
              "      margin-bottom: 4px;\n",
              "    }\n",
              "\n",
              "    [theme=dark] .colab-df-convert {\n",
              "      background-color: #3B4455;\n",
              "      fill: #D2E3FC;\n",
              "    }\n",
              "\n",
              "    [theme=dark] .colab-df-convert:hover {\n",
              "      background-color: #434B5C;\n",
              "      box-shadow: 0px 1px 3px 1px rgba(0, 0, 0, 0.15);\n",
              "      filter: drop-shadow(0px 1px 2px rgba(0, 0, 0, 0.3));\n",
              "      fill: #FFFFFF;\n",
              "    }\n",
              "  </style>\n",
              "\n",
              "    <script>\n",
              "      const buttonEl =\n",
              "        document.querySelector('#df-69d9222c-3c73-4143-bc4f-305f46217d24 button.colab-df-convert');\n",
              "      buttonEl.style.display =\n",
              "        google.colab.kernel.accessAllowed ? 'block' : 'none';\n",
              "\n",
              "      async function convertToInteractive(key) {\n",
              "        const element = document.querySelector('#df-69d9222c-3c73-4143-bc4f-305f46217d24');\n",
              "        const dataTable =\n",
              "          await google.colab.kernel.invokeFunction('convertToInteractive',\n",
              "                                                    [key], {});\n",
              "        if (!dataTable) return;\n",
              "\n",
              "        const docLinkHtml = 'Like what you see? Visit the ' +\n",
              "          '<a target=\"_blank\" href=https://colab.research.google.com/notebooks/data_table.ipynb>data table notebook</a>'\n",
              "          + ' to learn more about interactive tables.';\n",
              "        element.innerHTML = '';\n",
              "        dataTable['output_type'] = 'display_data';\n",
              "        await google.colab.output.renderOutput(dataTable, element);\n",
              "        const docLink = document.createElement('div');\n",
              "        docLink.innerHTML = docLinkHtml;\n",
              "        element.appendChild(docLink);\n",
              "      }\n",
              "    </script>\n",
              "  </div>\n",
              "\n",
              "\n",
              "<div id=\"df-c46cc30c-c332-4ce9-a625-ff055fbf4b0f\">\n",
              "  <button class=\"colab-df-quickchart\" onclick=\"quickchart('df-c46cc30c-c332-4ce9-a625-ff055fbf4b0f')\"\n",
              "            title=\"Suggest charts\"\n",
              "            style=\"display:none;\">\n",
              "\n",
              "<svg xmlns=\"http://www.w3.org/2000/svg\" height=\"24px\"viewBox=\"0 0 24 24\"\n",
              "     width=\"24px\">\n",
              "    <g>\n",
              "        <path d=\"M19 3H5c-1.1 0-2 .9-2 2v14c0 1.1.9 2 2 2h14c1.1 0 2-.9 2-2V5c0-1.1-.9-2-2-2zM9 17H7v-7h2v7zm4 0h-2V7h2v10zm4 0h-2v-4h2v4z\"/>\n",
              "    </g>\n",
              "</svg>\n",
              "  </button>\n",
              "\n",
              "<style>\n",
              "  .colab-df-quickchart {\n",
              "      --bg-color: #E8F0FE;\n",
              "      --fill-color: #1967D2;\n",
              "      --hover-bg-color: #E2EBFA;\n",
              "      --hover-fill-color: #174EA6;\n",
              "      --disabled-fill-color: #AAA;\n",
              "      --disabled-bg-color: #DDD;\n",
              "  }\n",
              "\n",
              "  [theme=dark] .colab-df-quickchart {\n",
              "      --bg-color: #3B4455;\n",
              "      --fill-color: #D2E3FC;\n",
              "      --hover-bg-color: #434B5C;\n",
              "      --hover-fill-color: #FFFFFF;\n",
              "      --disabled-bg-color: #3B4455;\n",
              "      --disabled-fill-color: #666;\n",
              "  }\n",
              "\n",
              "  .colab-df-quickchart {\n",
              "    background-color: var(--bg-color);\n",
              "    border: none;\n",
              "    border-radius: 50%;\n",
              "    cursor: pointer;\n",
              "    display: none;\n",
              "    fill: var(--fill-color);\n",
              "    height: 32px;\n",
              "    padding: 0;\n",
              "    width: 32px;\n",
              "  }\n",
              "\n",
              "  .colab-df-quickchart:hover {\n",
              "    background-color: var(--hover-bg-color);\n",
              "    box-shadow: 0 1px 2px rgba(60, 64, 67, 0.3), 0 1px 3px 1px rgba(60, 64, 67, 0.15);\n",
              "    fill: var(--button-hover-fill-color);\n",
              "  }\n",
              "\n",
              "  .colab-df-quickchart-complete:disabled,\n",
              "  .colab-df-quickchart-complete:disabled:hover {\n",
              "    background-color: var(--disabled-bg-color);\n",
              "    fill: var(--disabled-fill-color);\n",
              "    box-shadow: none;\n",
              "  }\n",
              "\n",
              "  .colab-df-spinner {\n",
              "    border: 2px solid var(--fill-color);\n",
              "    border-color: transparent;\n",
              "    border-bottom-color: var(--fill-color);\n",
              "    animation:\n",
              "      spin 1s steps(1) infinite;\n",
              "  }\n",
              "\n",
              "  @keyframes spin {\n",
              "    0% {\n",
              "      border-color: transparent;\n",
              "      border-bottom-color: var(--fill-color);\n",
              "      border-left-color: var(--fill-color);\n",
              "    }\n",
              "    20% {\n",
              "      border-color: transparent;\n",
              "      border-left-color: var(--fill-color);\n",
              "      border-top-color: var(--fill-color);\n",
              "    }\n",
              "    30% {\n",
              "      border-color: transparent;\n",
              "      border-left-color: var(--fill-color);\n",
              "      border-top-color: var(--fill-color);\n",
              "      border-right-color: var(--fill-color);\n",
              "    }\n",
              "    40% {\n",
              "      border-color: transparent;\n",
              "      border-right-color: var(--fill-color);\n",
              "      border-top-color: var(--fill-color);\n",
              "    }\n",
              "    60% {\n",
              "      border-color: transparent;\n",
              "      border-right-color: var(--fill-color);\n",
              "    }\n",
              "    80% {\n",
              "      border-color: transparent;\n",
              "      border-right-color: var(--fill-color);\n",
              "      border-bottom-color: var(--fill-color);\n",
              "    }\n",
              "    90% {\n",
              "      border-color: transparent;\n",
              "      border-bottom-color: var(--fill-color);\n",
              "    }\n",
              "  }\n",
              "</style>\n",
              "\n",
              "  <script>\n",
              "    async function quickchart(key) {\n",
              "      const quickchartButtonEl =\n",
              "        document.querySelector('#' + key + ' button');\n",
              "      quickchartButtonEl.disabled = true;  // To prevent multiple clicks.\n",
              "      quickchartButtonEl.classList.add('colab-df-spinner');\n",
              "      try {\n",
              "        const charts = await google.colab.kernel.invokeFunction(\n",
              "            'suggestCharts', [key], {});\n",
              "      } catch (error) {\n",
              "        console.error('Error during call to suggestCharts:', error);\n",
              "      }\n",
              "      quickchartButtonEl.classList.remove('colab-df-spinner');\n",
              "      quickchartButtonEl.classList.add('colab-df-quickchart-complete');\n",
              "    }\n",
              "    (() => {\n",
              "      let quickchartButtonEl =\n",
              "        document.querySelector('#df-c46cc30c-c332-4ce9-a625-ff055fbf4b0f button');\n",
              "      quickchartButtonEl.style.display =\n",
              "        google.colab.kernel.accessAllowed ? 'block' : 'none';\n",
              "    })();\n",
              "  </script>\n",
              "</div>\n",
              "\n",
              "    </div>\n",
              "  </div>\n"
            ]
          },
          "metadata": {},
          "execution_count": 13
        }
      ]
    },
    {
      "cell_type": "code",
      "source": [
        "# Assuming your output file is named 'output.csv'\n",
        "output_file = 'preprocessoutput.csv'\n",
        "\n",
        "# Save the DataFrame to a CSV file\n",
        "books.to_csv(output_file, index=False)\n",
        "\n",
        "# Display a message\n",
        "print(f'The updated DataFrame has been saved to {output_file}')"
      ],
      "metadata": {
        "colab": {
          "base_uri": "https://localhost:8080/"
        },
        "id": "Qr2YE1hNs4qj",
        "outputId": "96b9b2af-989c-4839-c11a-2be82a0c9163"
      },
      "execution_count": null,
      "outputs": [
        {
          "output_type": "stream",
          "name": "stdout",
          "text": [
            "The updated DataFrame has been saved to preprocessoutput.csv\n"
          ]
        }
      ]
    },
    {
      "cell_type": "code",
      "source": [
        "#to see the overview of books\n",
        "books['preprocessed_overview']"
      ],
      "metadata": {
        "id": "Td2D9tztKRLb",
        "colab": {
          "base_uri": "https://localhost:8080/"
        },
        "outputId": "de9e5ee0-3919-4ba2-96ad-2c049e864926"
      },
      "execution_count": null,
      "outputs": [
        {
          "output_type": "execute_result",
          "data": {
            "text/plain": [
              "0      data analysis using r low priced edition prime...\n",
              "2      guerrilla data analysis using microsoft excel ...\n",
              "3      python data analysis data wrangling pandas num...\n",
              "4      excel data analysis dummies dummies computer tech\n",
              "6      sql data analysis advanced techniques transfor...\n",
              "                             ...                        \n",
              "194    python programming books complete beginner gui...\n",
              "195                            categorical data analysis\n",
              "196    data driven hr use analytics metrics drive per...\n",
              "197    pandas workshop comprehensive guide using pyth...\n",
              "198    statistical methods categorical data analysis ...\n",
              "Name: preprocessed_overview, Length: 148, dtype: object"
            ]
          },
          "metadata": {},
          "execution_count": 15
        }
      ]
    },
    {
      "cell_type": "code",
      "source": [
        "#to get the tf-idf vectorizer for overview\n",
        "tfidf = TfidfVectorizer(stop_words=\"english\")\n",
        "books['preprocessed_overview'] = books['preprocessed_overview'].fillna(\"\")\n",
        "tfidf_matrix = tfidf.fit_transform(books['preprocessed_overview'])"
      ],
      "metadata": {
        "id": "OTb-_q1ZMpte"
      },
      "execution_count": null,
      "outputs": []
    },
    {
      "cell_type": "code",
      "source": [
        "#check the similarity between two overview's vectorizers\n",
        "cosine_sim = linear_kernel(tfidf_matrix,tfidf_matrix)"
      ],
      "metadata": {
        "id": "CYGGhIzEObFI"
      },
      "execution_count": null,
      "outputs": []
    },
    {
      "cell_type": "code",
      "source": [
        "#get book series and drop duplicates\n",
        "indices=pd. Series(books.index,index=books['title']).drop_duplicates()\n",
        "indices"
      ],
      "metadata": {
        "id": "uknXLP8lOrfA",
        "colab": {
          "base_uri": "https://localhost:8080/"
        },
        "outputId": "0ba35ff0-13a0-4981-b6cb-c44b6de94058"
      },
      "execution_count": null,
      "outputs": [
        {
          "output_type": "execute_result",
          "data": {
            "text/plain": [
              "title\n",
              "Data Analysis Using R: A Primer for Data Scientist             0\n",
              "Guerrilla Data Analysis with Microsoft Excel                   2\n",
              "Python for Data Analysis: Wrangling with Pandas and NumPy      3\n",
              "Excel Data Analysis For Dummies                                4\n",
              "SQL for Data Analysis: Advanced Techniques                     6\n",
              "                                                            ... \n",
              "Business Analysis For Dummies                                194\n",
              "Machine Learning Explained The Simple Way                    195\n",
              "CompTIA Data+ Study Guide: Exam DA0-001                      196\n",
              "RNA Sequencing: Principles and Data Analysis                 197\n",
              "Analysis of Panel Data (Econometric Society Monographs)      198\n",
              "Length: 148, dtype: int64"
            ]
          },
          "metadata": {},
          "execution_count": 18
        }
      ]
    },
    {
      "cell_type": "code",
      "source": [
        "indices['Data Analysis Using R: A Primer for Data Scientist']"
      ],
      "metadata": {
        "id": "W4EOd2ybPLvQ",
        "colab": {
          "base_uri": "https://localhost:8080/"
        },
        "outputId": "30ac9398-5e50-4f35-880b-1e273866e5c3"
      },
      "execution_count": null,
      "outputs": [
        {
          "output_type": "execute_result",
          "data": {
            "text/plain": [
              "0"
            ]
          },
          "metadata": {},
          "execution_count": 19
        }
      ]
    },
    {
      "cell_type": "code",
      "source": [
        "#to get the recommendation list for given book\n",
        "def get_recommendations(title,cosine_sim = cosine_sim):\n",
        "  idx = indices[title]\n",
        "  sim_scores=enumerate(cosine_sim[idx])\n",
        "  sim_scores=sorted(sim_scores,key=lambda x:x[1],reverse=True)\n",
        "  sim_scores = sim_scores[1:11]\n",
        "  sim_index=[i[0] for i in sim_scores]\n",
        "  print(books[\"title\"].iloc[sim_index])"
      ],
      "metadata": {
        "id": "oBCTlP_zPZw_"
      },
      "execution_count": null,
      "outputs": []
    },
    {
      "cell_type": "code",
      "source": [
        "get_recommendations('Data Analysis Using R: A Primer for Data Scientist')"
      ],
      "metadata": {
        "id": "1Vp_5-UeTT55",
        "colab": {
          "base_uri": "https://localhost:8080/"
        },
        "outputId": "2fbd5d9f-484c-4564-fdc1-137461884125"
      },
      "execution_count": null,
      "outputs": [
        {
          "output_type": "stream",
          "name": "stdout",
          "text": [
            "86                                          Data for All\n",
            "110                Python Data Analysis - Second Edition\n",
            "161    Introduction to Mediation, Moderation, and Con...\n",
            "198    Analysis of Panel Data (Econometric Society Mo...\n",
            "9        R in Action: Data Analysis with R and Tidyverse\n",
            "125            The Workflow of Data Analysis Using Stata\n",
            "96             Hands-On Exploratory Data Analysis with R\n",
            "148       Practical Data Analysis Using Jupyter Notebook\n",
            "58                    Hands-On Data Analysis with Pandas\n",
            "89     Statistical Analysis of fMRI Data, second edition\n",
            "Name: title, dtype: object\n"
          ]
        }
      ]
    },
    {
      "cell_type": "code",
      "source": [
        "get_recommendations('Guerrilla Data Analysis with Microsoft Excel')"
      ],
      "metadata": {
        "colab": {
          "base_uri": "https://localhost:8080/"
        },
        "id": "FpwDxL5XYBlS",
        "outputId": "7b3802f0-4631-4216-8da7-6808a2ba0449"
      },
      "execution_count": null,
      "outputs": [
        {
          "output_type": "stream",
          "name": "stdout",
          "text": [
            "58                    Hands-On Data Analysis with Pandas\n",
            "56     Data Analysis with Python: Introducing Essenti...\n",
            "86                                          Data for All\n",
            "197         RNA Sequencing: Principles and Data Analysis\n",
            "146    Python for ArcGIS Pro: Automate cartography an...\n",
            "110                Python Data Analysis - Second Edition\n",
            "114    Become a Python Data Analyst: Perform explorat...\n",
            "36        Python for Data Science: Hands-On Introduction\n",
            "132                            Exploratory Data Analysis\n",
            "195            Machine Learning Explained The Simple Way\n",
            "Name: title, dtype: object\n"
          ]
        }
      ]
    },
    {
      "cell_type": "code",
      "source": [
        "# Define ground truth data (for example purposes)\n",
        "ground_truth = {\n",
        "    'The Dark Knight Rises': [\n",
        "        'Batman Forever',\n",
        "        'Batman Returns',\n",
        "        'Batman',\n",
        "        'Batman: The Dark Knight Returns, Part 2',\n",
        "        'Batman Begins',\n",
        "        'Slow Burn',\n",
        "        'Batman v Superman: Dawn of Justice',\n",
        "        'JFK',\n",
        "        'Batman & Robin'],\n",
        "    'The Matrix': ['Hackers', 'Commando', 'Pulse','Obitaemyy Ostrov','Transcendence','Avatar','Live Free or Die Hard','Supernova','The Matrix Reloaded','The Love Letter']\n",
        "}"
      ],
      "metadata": {
        "id": "_7rGdYmb2gpL"
      },
      "execution_count": null,
      "outputs": []
    },
    {
      "cell_type": "code",
      "source": [
        "ground_truth = {'Python Data Analysis - Second Edition':[\n",
        " 'Data for All',\n",
        "'Think Python: How to Think Like a Computer Sci...',\n",
        "'R in Action: Data Analysis with R and Tidyverse',\n",
        "'The Workflow of Data Analysis Using Stata',\n",
        "'Analysis of Panel Data (Econometric Society Mo...',\n",
        "'Introduction to Mediation, Moderation, and Con...',\n",
        "'Hands-On Exploratory Data Analysis with R',\n",
        "'Practical Data Analysis Using Jupyter Notebook',\n",
        " 'Hands-On Data Analysis with Pandas'],\n",
        "\n",
        "  'Guerrilla Data Analysis with Microsoft Excel':['Introduction to Mediation, Moderation, and Con...',\n",
        "                   'EXCEL DATA ANALYSIS: Ultimate Practical Guide ...','Excel 2022: The most updated guide to master M...',\n",
        "'Excel 2022: Learn From Scratch with the Most U...',\n",
        "' Excel Pivot Tables: Basic Beginners Guide',\n",
        "'Data for All',\n",
        "'Excel Data Analysis: Your visual blueprint for...',\n",
        "'Excel Data Analysis For Dummies',\n",
        "'Recovering Black Storytelling in Qualitative R...',\n",
        "'Microsoft 365 Excel: The Only App That Matters']\n",
        "\n",
        "}"
      ],
      "metadata": {
        "id": "i8llCfZ_LY3t"
      },
      "execution_count": null,
      "outputs": []
    },
    {
      "cell_type": "code",
      "source": [
        "#define a function to calculate precision and recall\n",
        "def calculate_precision_recall(ground_truth, recommended_movies):\n",
        "    true_positives = 0\n",
        "    false_positives = 0\n",
        "    false_negatives = 0\n",
        "\n",
        "    for title in ground_truth:\n",
        "        if title in recommended_movies:\n",
        "            true_positives += len(set(ground_truth[title]) & set(recommended_movies[title]))\n",
        "            false_positives += len(set(recommended_movies[title]) - set(ground_truth[title]))\n",
        "            false_negatives += len(set(ground_truth[title]) - set(recommended_movies[title]))\n",
        "\n",
        "    precision = true_positives / (true_positives + false_positives) if true_positives + false_positives > 0 else 0\n",
        "    recall = true_positives / (true_positives + false_negatives) if true_positives + false_negatives > 0 else 0\n",
        "\n",
        "    return precision, recall"
      ],
      "metadata": {
        "id": "4MdB0F1s_Vc9"
      },
      "execution_count": null,
      "outputs": []
    },
    {
      "cell_type": "code",
      "source": [
        "def get_recommendations(title, cosine_sim=cosine_sim):\n",
        "    idx = indices[title]\n",
        "    sim_scores = enumerate(cosine_sim[idx])\n",
        "    sim_scores = sorted(sim_scores, key=lambda x: x[1], reverse=True)\n",
        "    sim_scores = sim_scores[1:11]\n",
        "    sim_index = [i[0] for i in sim_scores]\n",
        "    return list(books[\"title\"].iloc[sim_index])\n",
        "\n",
        "# Get recommendations\n",
        "recommended_books = {\n",
        "    'Python Data Analysis - Second Edition': get_recommendations('Python Data Analysis - Second Edition'),\n",
        "    'Guerrilla Data Analysis with Microsoft Excel': get_recommendations('Guerrilla Data Analysis with Microsoft Excel')\n",
        "}"
      ],
      "metadata": {
        "id": "5u3FWOfJ_Y6o"
      },
      "execution_count": null,
      "outputs": []
    },
    {
      "cell_type": "code",
      "source": [
        "# Calculate precision and recall\n",
        "precision, recall = calculate_precision_recall(ground_truth, recommended_books)\n",
        "\n",
        "# Calculate accuracy (for example purposes)\n",
        "accuracy = (precision + recall) / 2\n",
        "\n",
        "print(f'Precision: {precision}')\n",
        "print(f'Recall: {recall}')\n",
        "print(f'Accuracy: {accuracy}')\n",
        "\n",
        "#calculated precision and recall values\n",
        "prec = precision\n",
        "rec = recall\n",
        "\n",
        "#Bar chart of the precision and recall\n",
        "categories = ['Precision', 'Recall']\n",
        "values = [prec, rec]\n",
        "\n",
        "plt.figure(figsize=(6, 4))\n",
        "plt.bar(categories, values, color=['blue', 'red'])\n",
        "plt.xlabel('Metrix')\n",
        "plt.ylabel('Value')\n",
        "plt.title('Precision and Recall by Overview')\n",
        "plt.show()"
      ],
      "metadata": {
        "colab": {
          "base_uri": "https://localhost:8080/",
          "height": 462
        },
        "id": "Z4vYD_3-_dm-",
        "outputId": "b03eaa93-8524-4a60-c6ed-9443ac49332e"
      },
      "execution_count": null,
      "outputs": [
        {
          "output_type": "stream",
          "name": "stdout",
          "text": [
            "Precision: 0.1\n",
            "Recall: 0.10526315789473684\n",
            "Accuracy: 0.10263157894736842\n"
          ]
        },
        {
          "output_type": "display_data",
          "data": {
            "text/plain": [
              "<Figure size 600x400 with 1 Axes>"
            ],
            "image/png": "[encoded data removed]"
          },
          "metadata": {}
        }
      ]
    }
  ]
}